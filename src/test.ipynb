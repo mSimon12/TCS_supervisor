{
 "nbformat": 4,
 "nbformat_minor": 2,
 "metadata": {
  "language_info": {
   "name": "python",
   "codemirror_mode": {
    "name": "ipython",
    "version": 3
   },
   "version": "3.7.6-final"
  },
  "orig_nbformat": 2,
  "file_extension": ".py",
  "mimetype": "text/x-python",
  "name": "python",
  "npconvert_exporter": "python",
  "pygments_lexer": "ipython3",
  "version": 3,
  "kernelspec": {
   "name": "python3",
   "display_name": "Python 3"
  }
 },
 "cells": [
  {
   "cell_type": "code",
   "execution_count": null,
   "metadata": {},
   "outputs": [],
   "source": [
    "from graphviz import Digraph\n",
    "import pandas as pd\n"
   ]
  },
  {
   "cell_type": "code",
   "execution_count": null,
   "metadata": {},
   "outputs": [],
   "source": [
    "\n",
    "# graph = Digraph(comment='My supervisor', filename='teste.gv', format='pdf')\n",
    "\n",
    "# graph.node('A','A', shape='circle')\n",
    "# graph.node('B','B', shape= 'circle', color='red')\n",
    "\n",
    "# # graph.attr('node', shape='doublecircle')\n",
    "# graph.node('C','C',shape='doublecircle')\n",
    "\n",
    "# graph.node('D','D',shape='circle')\n",
    "\n",
    "# graph.edge('A','B','t1')\n",
    "# graph.edge('B','C','t2')\n",
    "# graph.edge('C','A','t3')\n",
    "\n",
    "# print(graph.source)\n",
    "\n",
    "# graph.view()\n"
   ]
  },
  {
   "cell_type": "code",
   "execution_count": null,
   "metadata": {},
   "outputs": [],
   "source": [
    "\n",
    "# df1 = pd.DataFrame([['t1','S1'],['t2','S2'],['t3','S3']],columns=['transition','output_node'])\n",
    "# df2 = pd.DataFrame([['t4','S1'],['t5','S2'],['t6','S3']],columns=['transition','output_node'])\n",
    "\n",
    "# dic = {'a':df1,'b':df2}\n",
    "\n",
    "# for s in dic:\n",
    "#     for i in dic[s].index:\n",
    "#         print(dic[s].loc[i]['output_node'])"
   ]
  },
  {
   "cell_type": "code",
   "execution_count": null,
   "metadata": {},
   "outputs": [],
   "source": [
    "\n",
    "df1 = pd.DataFrame([['t1','S1'],['t2','S2'],['t3','S2']],columns=['transition','output_node'])\n",
    "df2 = pd.DataFrame([['t4','S1'],['t5','S2'],['t6','S1']],columns=['transition','output_node'])\n",
    "\n",
    "dic = {'S1':df1,'S2':df2}\n",
    "\n",
    "for s_from in dic:\n",
    "    for s_to in dic:\n",
    "        transitions = dic[s_from].loc[dic[s_from]['output_node'] == s_to]\n",
    "        print(transitions['transition'].values)\n",
    "        separetor = ','\n",
    "        text = separetor.join(transitions['transition'].values)\n",
    "        print(text)"
   ]
  },
  {
   "cell_type": "code",
   "execution_count": null,
   "metadata": {},
   "outputs": [],
   "source": [
    "dir = '/'\n",
    "file = 'first.csv'\n",
    "print(\"{}{}\".format(dir,file))\n"
   ]
  },
  {
   "cell_type": "code",
   "execution_count": null,
   "metadata": {},
   "outputs": [],
   "source": [
    "pd.read_csv()"
   ]
  }
 ]
}